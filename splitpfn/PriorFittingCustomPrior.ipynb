{
 "cells": [
  {
   "cell_type": "markdown",
   "metadata": {
    "tags": []
   },
   "source": [
    "## Setup"
   ]
  },
  {
   "cell_type": "code",
   "execution_count": 1,
   "metadata": {},
   "outputs": [],
   "source": [
    "%load_ext autoreload\n",
    "\n",
    "%autoreload 2"
   ]
  },
  {
   "cell_type": "code",
   "execution_count": 8,
   "metadata": {},
   "outputs": [],
   "source": [
    "from datetime import datetime\n",
    "\n",
    "import torch\n",
    "\n",
    "\n",
    "from scripts.model_builder import get_model\n",
    "\n",
    "from scripts.model_configs import *\n",
    "\n",
    "from priors.utils import uniform_int_sampler_f\n",
    "\n",
    "\n",
    "from notebook_utils import *"
   ]
  },
  {
   "cell_type": "code",
   "execution_count": 9,
   "metadata": {},
   "outputs": [],
   "source": [
    "large_datasets = True\n",
    "max_samples = 10000 if large_datasets else 5000\n",
    "bptt = 10000 if large_datasets else 3000\n",
    "suite='cc'"
   ]
  },
  {
   "cell_type": "code",
   "execution_count": 10,
   "metadata": {},
   "outputs": [],
   "source": [
    "device = 'cuda' if torch.cuda.is_available() else 'cpu'\n",
    "base_path = '.'\n",
    "max_features = 100"
   ]
  },
  {
   "cell_type": "code",
   "execution_count": 11,
   "metadata": {},
   "outputs": [],
   "source": [
    "# def print_models(model_string):\n",
    "#     print(model_string)\n",
    "\n",
    "#     for i in range(80):\n",
    "#         for e in range(50):\n",
    "#             exists = Path(os.path.join(base_path, f'models_diff/prior_diff_real_checkpoint{model_string}_n_{i}_epoch_{e}.cpkt')).is_file()\n",
    "#             if exists:\n",
    "#                 print(os.path.join(base_path, f'models_diff/prior_diff_real_checkpoint{model_string}_n_{i}_epoch_{e}.cpkt'))\n",
    "#         print()"
   ]
  },
  {
   "cell_type": "code",
   "execution_count": 12,
   "metadata": {},
   "outputs": [],
   "source": [
    "# def train_function(config_sample, i, add_name=''):\n",
    "#     start_time = time.time()\n",
    "#     N_epochs_to_save = 50\n",
    "    \n",
    "#     def save_callback(model, epoch):\n",
    "#         if not hasattr(model, 'last_saved_epoch'):\n",
    "#             model.last_saved_epoch = 0\n",
    "#         if ((time.time() - start_time) / (maximum_runtime * 60 / N_epochs_to_save)) > model.last_saved_epoch:\n",
    "#             print('Saving model..')\n",
    "#             config_sample['epoch_in_training'] = epoch\n",
    "#             save_model(model, base_path, f'models_diff/prior_diff_real_checkpoint{add_name}_n_{i}_epoch_{model.last_saved_epoch}.cpkt',\n",
    "#                            config_sample)\n",
    "#             model.last_saved_epoch = model.last_saved_epoch + 1 # TODO: Rename to checkpoint\n",
    "    \n",
    "#     model = get_model(config_sample\n",
    "#                       , device\n",
    "#                       , should_train=True\n",
    "#                       , verbose=1\n",
    "#                       , epoch_callback = save_callback)\n",
    "    \n",
    "#     return"
   ]
  },
  {
   "cell_type": "markdown",
   "metadata": {
    "tags": []
   },
   "source": [
    "## Define prior settings"
   ]
  },
  {
   "cell_type": "code",
   "execution_count": 13,
   "metadata": {
    "scrolled": true
   },
   "outputs": [],
   "source": [
    "def reload_config(config_type='causal', task_type='multiclass', longer=0):\n",
    "    config = get_prior_config(config_type=config_type)\n",
    "    \n",
    "    config['prior_type'], config['differentiable'], config['flexible'] = 'prior_bag', True, True\n",
    "    \n",
    "    model_string = ''\n",
    "    \n",
    "    config['epochs'] = 12000\n",
    "    config['recompute_attn'] = True\n",
    "\n",
    "    config['max_num_classes'] = 10\n",
    "    config['num_classes'] = uniform_int_sampler_f(2, config['max_num_classes'])\n",
    "    config['balanced'] = False\n",
    "    model_string = model_string + '_multiclass'\n",
    "    \n",
    "    model_string = model_string + '_'+datetime.now().strftime(\"%m_%d_%Y_%H_%M_%S\")\n",
    "    \n",
    "    return config, model_string"
   ]
  },
  {
   "cell_type": "markdown",
   "metadata": {
    "tags": []
   },
   "source": [
    "## Visualize Prior samples"
   ]
  },
  {
   "cell_type": "code",
   "execution_count": 14,
   "metadata": {
    "tags": []
   },
   "outputs": [],
   "source": [
    "config, model_string = reload_config(longer=1)\n",
    "\n",
    "config['bptt_extra_samples'] = None\n",
    "\n",
    "# diff\n",
    "config['output_multiclass_ordered_p'] = 0.\n",
    "del config['differentiable_hyperparameters']['output_multiclass_ordered_p']\n",
    "\n",
    "config['multiclass_type'] = 'rank'\n",
    "del config['differentiable_hyperparameters']['multiclass_type']\n",
    "\n",
    "config['sampling'] = 'normal' # vielleicht schlecht?\n",
    "del config['differentiable_hyperparameters']['sampling']\n",
    "\n",
    "config['pre_sample_causes'] = True\n",
    "# end diff\n",
    "\n",
    "config['multiclass_loss_type'] = 'nono' # 'compatible'\n",
    "config['normalize_to_ranking'] = False # False\n",
    "\n",
    "config['categorical_feature_p'] = .2 # diff: .0\n",
    "\n",
    "# turn this back on in a random search!?\n",
    "config['nan_prob_no_reason'] = .0\n",
    "config['nan_prob_unknown_reason'] = .0 # diff: .0\n",
    "config['set_value_to_nan'] = .1 # diff: 1.\n",
    "\n",
    "config['normalize_with_sqrt'] = False\n",
    "\n",
    "config['new_mlp_per_example'] = True\n",
    "config['prior_mlp_scale_weights_sqrt'] = True\n",
    "config['batch_size_per_gp_sample'] = None\n",
    "\n",
    "config['normalize_ignore_label_too'] = False\n",
    "\n",
    "config['differentiable_hps_as_style'] = False\n",
    "config['max_eval_pos'] = 1000\n",
    "\n",
    "config['random_feature_rotation'] = True\n",
    "config['rotate_normalized_labels'] = True\n",
    "\n",
    "config[\"mix_activations\"] = False # False heisst eig True\n",
    "\n",
    "config['emsize'] = 512\n",
    "config['nhead'] = config['emsize'] // 128\n",
    "config['bptt'] = 1024+128\n",
    "config['canonical_y_encoder'] = False\n",
    "\n",
    "    \n",
    "config['aggregate_k_gradients'] = 8\n",
    "config['batch_size'] = 8*config['aggregate_k_gradients']\n",
    "config['num_steps'] = 1024//config['aggregate_k_gradients']\n",
    "config['epochs'] = 1 #400\n",
    "config['total_available_time_in_s'] = None #60*60*22 # 22 hours for some safety...\n",
    "\n",
    "config['train_mixed_precision'] = True\n",
    "config['efficient_eval_masking'] = True\n",
    "\n",
    "config_sample = evaluate_hypers(config)"
   ]
  },
  {
   "cell_type": "code",
   "execution_count": 15,
   "metadata": {},
   "outputs": [],
   "source": [
    "config_sample['batch_size'] = 4\n",
    "# model = get_model(config_sample, device, should_train=False, verbose=2) # , state_dict=model[2].state_dict()\n",
    "# (hp_embedding, data, _), targets, single_eval_pos = next(iter(model[3]))\n",
    "\n",
    "# from utils import normalize_data\n",
    "# fig = plt.figure(figsize=(8, 8))\n",
    "# N = 100\n",
    "# plot_features(data[0:N, 0, 0:4], targets[0:N, 0], fig=fig)\n",
    "\n",
    "# d = np.concatenate([data[:, 0, :].T, np.expand_dims(targets[:, 0], -1).T])\n",
    "# d[np.isnan(d)] = 0\n",
    "# c = np.corrcoef(d)\n",
    "# plt.matshow(np.abs(c), vmin=0, vmax=1)\n",
    "# plt.show()"
   ]
  },
  {
   "cell_type": "markdown",
   "metadata": {
    "tags": []
   },
   "source": [
    "## Training"
   ]
  },
  {
   "cell_type": "code",
   "execution_count": 16,
   "metadata": {},
   "outputs": [
    {
     "name": "stdout",
     "output_type": "stream",
     "text": [
      "Using style prior: True\n",
      "Using cuda device\n",
      "Using a Transformer with 25.82 M parameters\n",
      "-----------------------------------------------------------------------------------------\n",
      "| end of epoch   1 | time: 231.36s | mean loss  2.26 | pos losses  2.31,  nan, 2.28, 2.30, 2.27,  nan, 2.30, 2.27,  nan, 2.29,  nan,  nan, 2.29, 2.22,  nan, 2.29, 2.30, 2.27, 2.32,  nan, 2.27, 2.28, 2.34, 2.42,  nan, 2.31, 2.30,  nan, 2.27, 2.32, 0.00,  nan,  nan,  nan, 2.29, 2.32, 1.12, 2.34,  nan, 2.31, 2.27, 2.32,  nan,  nan, 2.23,  nan,  nan, 2.33, 2.30, 2.29,  nan,  nan, 2.33, 2.41, 2.27, 2.29,  nan, 2.29,  nan, 2.29, 2.31,  nan,  nan,  nan, 2.30, 2.31, 2.29,  nan, 2.27,  nan, 2.23,  nan, 2.32,  nan, 2.29,  nan,  nan, 2.26,  nan,  nan, 2.32, 2.23, 2.28, 2.32, 2.28, 2.33, 2.40,  nan, 2.31,  nan, 2.29, 2.24, 2.36, 2.25, 2.34,  nan,  nan,  nan, 2.31, 2.28, 2.28, 2.34,  nan, 0.00, 2.29,  nan, 2.41, 2.29,  nan,  nan,  nan, 2.25, 2.30, 2.28, 2.31, 2.25, 2.25, 2.27,  nan, 2.29,  nan,  nan, 2.31, 2.30, 2.33,  nan, 2.32, 2.32, 2.32,  nan, 2.28, 2.30, 2.27,  nan, 2.31, 2.32, 2.26,  nan,  nan,  nan, 2.29, 2.25,  nan, 2.32, 2.29, 2.29, 2.27, 2.31, 2.30, 2.26,  nan,  nan,  nan, 2.27, 2.27, 2.30,  nan, 2.29, 2.33, 2.31, 2.29, 2.30,  nan, 2.29, 2.28, 2.30, 2.29, 2.28, 2.27, 2.30,  nan, 2.29, 2.31,  nan,  nan, 2.24, 0.00,  nan,  nan, 2.28, 2.31,  nan, 2.29,  nan,  nan, 2.30, 1.16, 2.31,  nan, 2.32, 2.28,  nan,  nan, 2.27, 2.28, 2.28, 2.26,  nan, 2.28, 2.34, 2.31,  nan,  nan,  nan, 2.37, 2.29, 2.32, 2.30, 2.31, 2.23, 2.30,  nan,  nan, 2.29, 2.22, 2.32,  nan, 2.28,  nan, 2.26, 2.29,  nan, 2.31,  nan, 2.30,  nan, 2.25,  nan, 2.31,  nan,  nan, 2.31, 2.27, 2.31,  nan, 2.29, 2.32,  nan,  nan, 2.28,  nan,  nan, 2.32, 2.33,  nan, 2.29, 2.29, 2.29, 2.27, 2.24,  nan,  nan,  nan, 2.35, 2.33, 2.31, 2.30, 2.31, 2.23,  nan,  nan, 2.26,  nan, 2.28, 2.22,  nan, 2.33, 2.30, 2.38, 2.30, 2.30, 2.29,  nan, 2.26, 2.32, 2.32, 2.27, 2.26,  nan, 2.29,  nan,  nan, 2.30, 2.31, 2.28, 2.28, 2.29, 2.18,  nan, 2.30, 2.27, 2.31, 2.42,  nan,  nan, 2.31, 2.28, 2.30,  nan, 2.28, 2.46,  nan, 2.33, 2.29, 2.31,  nan, 2.34, 2.28, 2.31, 2.30, 2.28,  nan, 2.30, 2.32,  nan, 2.32,  nan, 2.36,  nan, 2.28,  nan, 2.28, 2.33, 2.31, 2.32,  nan, 2.30, 2.31, 1.14, 2.30,  nan, 2.35,  nan, 2.31, 2.28, 2.28, 2.31, 2.31, 2.31, 2.33, 2.28, 2.32, 2.25, 2.27, 2.31, 2.29, 2.34, 2.30, 2.30, 2.23, 2.27, 2.30, 2.32, 2.29,  nan,  nan, 2.32, 2.32, 2.29, 2.29, 2.31, 2.26,  nan, 2.27,  nan,  nan,  nan, 2.30,  nan, 2.31, 2.29, 2.35,  nan,  nan, 2.31,  nan,  nan,  nan,  nan, 2.31,  nan, 2.31, 2.28, 2.30, 2.32, 2.25, 2.26,  nan, 2.31,  nan, 2.31,  nan, 2.30,  nan, 2.32, 2.22, 2.38, 2.28,  nan,  nan,  nan, 2.30, 2.30, 2.26, 2.27, 2.30, 2.29,  nan, 2.30,  nan, 2.30,  nan, 2.29,  nan,  nan,  nan, 2.36,  nan, 2.27, 2.25, 2.30,  nan,  nan,  nan,  nan, 2.29, 2.34, 2.29, 2.30, 2.37,  nan,  nan,  nan, 2.34,  nan, 2.24,  nan, 2.30, 2.30, 2.28, 2.33,  nan, 2.32, 2.29, 2.23, 2.29,  nan, 2.33, 1.53, 2.28, 2.27,  nan,  nan, 1.54, 2.32,  nan, 2.35,  nan,  nan,  nan,  nan,  nan, 2.29, 2.25,  nan, 2.29, 2.30,  nan,  nan, 2.31,  nan, 2.29,  nan, 2.33,  nan, 2.29,  nan,  nan, 2.28,  nan,  nan, 2.33, 2.24, 2.34,  nan, 2.28, 2.30,  nan, 2.30, 2.30,  nan,  nan, 2.31, 2.30,  nan,  nan,  nan, 2.24,  nan, 2.29,  nan, 2.30, 2.29,  nan, 2.34, 2.26,  nan, 2.32,  nan, 2.28,  nan, 2.32, 2.29, 2.33, 2.30,  nan, 2.28,  nan, 2.37, 2.29, 2.28, 2.33,  nan, 2.29, 2.23,  nan,  nan, 2.31, 2.28, 2.33, 2.33, 2.28,  nan, 2.34,  nan, 1.15, 2.31, 2.28, 2.29,  nan, 2.26, 2.37,  nan, 2.29, 2.34, 2.23, 2.30,  nan, 2.30,  nan, 2.25,  nan, 2.29, 2.31, 2.29, 2.27,  nan,  nan, 2.29, 2.30, 2.31,  nan,  nan, 2.31,  nan,  nan,  nan,  nan, 2.27,  nan,  nan, 2.27, 2.29, 2.27, 2.38,  nan, 2.31,  nan, 2.27, 2.29, 2.30, 2.37, 2.31, 2.30, 2.28, 2.30, 2.23,  nan,  nan, 2.28,  nan, 2.28, 2.26, 2.21,  nan,  nan,  nan,  nan, 2.30, 2.34,  nan, 2.32, 2.26,  nan,  nan, 0.00, 2.28, 2.30, 2.32, 2.30, 2.29, 2.29,  nan, 2.29, 2.31,  nan,  nan,  nan, 2.26,  nan,  nan,  nan, 2.29, 2.26, 2.29, 2.30,  nan,  nan,  nan,  nan, 2.31, 2.26, 2.27,  nan, 2.30,  nan, 1.53, 2.30,  nan, 2.29, 2.33, 2.29, 2.29, 2.28,  nan,  nan, 2.26, 2.30,  nan,  nan, 2.27, 2.31, 2.29,  nan,  nan, 2.39,  nan,  nan, 2.22, 2.30, 2.30, 2.28, 2.35, 2.29,  nan, 2.29,  nan,  nan,  nan,  nan, 2.28,  nan, 2.29,  nan,  nan, 2.21, 2.30, 2.33,  nan,  nan,  nan, 2.29,  nan, 2.30,  nan,  nan, 2.30, 2.27, 2.28, 2.31,  nan, 2.38, 2.33,  nan, 2.31,  nan,  nan,  nan, 2.29,  nan, 2.33, 2.31,  nan, 2.32,  nan, 2.30,  nan,  nan, 0.00, 2.33,  nan, 2.27, 2.28,  nan, 2.26, 2.28, 2.32, 2.26,  nan,  nan, 2.34,  nan, 2.28, 2.25, 2.28, 2.28, 2.30, 2.30,  nan, 2.27,  nan, 2.33, 2.28, 2.30, 2.32,  nan, 2.32, 2.40, 2.32, 2.31, 2.33, 2.29,  nan,  nan, 2.34, 2.29, 2.26,  nan, 2.35,  nan, 2.32, 2.33,  nan, 2.33, 2.29, 2.26, 2.31, 2.31, 2.27, 2.30, 2.25,  nan, 2.32,  nan, 2.30, 2.29, 2.33, 2.27, 2.29,  nan,  nan,  nan, 2.28, 2.30, 2.29,  nan, 2.31,  nan, 2.33, 2.36,  nan, 2.26,  nan,  nan,  nan,  nan, 2.32,  nan, 2.27,  nan, 2.30, 2.33,  nan, 2.29, 2.29, 2.31, 2.31, 2.30, 2.31,  nan, 2.29, 2.23,  nan, 2.30, 2.29,  nan,  nan, 2.31, 2.28, 2.31, 2.28, 2.26, 2.34,  nan, 2.33, 2.32, 2.23,  nan, 2.23, 2.29,  nan,  nan,  nan, 2.31, 2.22, 2.16, 2.33, 2.33,  nan,  nan, 2.32, 2.29, 2.32,  nan, 2.34,  nan,  nan,  nan,  nan,  nan, 2.26, 2.35, 2.32,  nan,  nan, 2.31,  nan, 2.31, 2.27, 2.32, 2.29, 2.28, 2.24,  nan, 2.28, 2.31, 2.26, 2.27,  nan,  nan, 2.26, 2.30,  nan, 2.31, 2.32,  nan,  nan,  nan,  nan, 2.29,  nan, 2.27, 2.33,  nan, 2.28, 2.27, 2.33, 2.34, 2.35,  nan,  nan, 2.33,  nan, 2.31, 2.33,  nan, 2.31, 2.27, 2.31, 2.31, 2.27,  nan,  nan, 2.32,  nan, 2.28, 2.29, 2.30,  nan, 2.31,  nan, 2.36,  nan,  nan, 2.29,  nan,  nan, 2.27,  nan,  nan, 2.30,  nan,  nan, 2.27, 2.28, 1.52, 2.31, 2.29, 2.30,  nan, 2.28, 2.34, 2.30, 2.30, 2.30, 2.29, 2.29,  nan, 2.39,  nan, 2.31, 2.32,  nan, 2.32,  nan, 2.31, 2.28, 2.28,  nan, 2.30,  nan, 2.34, 2.23, 2.30, 2.34, 2.29,  nan, 2.27,  nan, 2.22, 2.27,  nan, 2.31, 2.32, 2.37, 0.00, 2.33, 1.53, 2.30, 2.27, 2.29, 2.10,  nan, 2.29,  nan, 2.29,  nan, 2.31, 2.30,  nan, 2.35,  nan,  nan, 2.27, 2.36, 2.29,  nan,  nan, 2.34, 2.31,  nan,  nan, 2.37,  nan, 0.00, 2.28,  nan,  nan, 2.29,  nan, 2.29, 2.31, 2.29,  nan,  nan,  nan, 2.27, 2.35,  nan,  nan,  nan,  nan,  nan,  nan,  nan,  nan,  nan,  nan,  nan,  nan,  nan,  nan,  nan,  nan,  nan,  nan,  nan,  nan,  nan,  nan,  nan,  nan,  nan,  nan,  nan,  nan,  nan,  nan,  nan,  nan,  nan,  nan,  nan,  nan,  nan,  nan,  nan,  nan,  nan,  nan,  nan,  nan,  nan,  nan,  nan,  nan,  nan,  nan,  nan,  nan,  nan,  nan,  nan,  nan,  nan,  nan,  nan,  nan,  nan,  nan,  nan,  nan,  nan,  nan,  nan,  nan,  nan,  nan,  nan,  nan,  nan,  nan,  nan,  nan,  nan,  nan,  nan,  nan,  nan,  nan,  nan,  nan,  nan,  nan,  nan,  nan,  nan,  nan,  nan,  nan,  nan,  nan,  nan,  nan,  nan,  nan,  nan,  nan,  nan,  nan,  nan,  nan,  nan,  nan,  nan,  nan,  nan,  nan,  nan,  nan,  nan,  nan,  nan,  nan,  nan,  nan,  nan,  nan,  nan,  nan,  nan,  nan,  nan,  nan,  nan,  nan,  nan,  nan,  nan,  nan,  nan,  nan,  nan,  nan,  nan,  nan,  nan,  nan,  nan,  nan,  nan,  nan,  nan,  nan,  nan,  nan,  nan,  nan,  nan,  nan,  nan,  nan, lr 0.0 data time  0.03 step time  0.17 forward time  0.04 nan share  0.00 ignore share (for classification tasks) 0.0156\n",
      "-----------------------------------------------------------------------------------------\n"
     ]
    }
   ],
   "source": [
    "model = get_model(config_sample, device, should_train=True, verbose=1)"
   ]
  },
  {
   "cell_type": "code",
   "execution_count": null,
   "metadata": {},
   "outputs": [],
   "source": []
  }
 ],
 "metadata": {
  "kernelspec": {
   "display_name": "Python 3 (ipykernel)",
   "language": "python",
   "name": "python3"
  },
  "language_info": {
   "codemirror_mode": {
    "name": "ipython",
    "version": 3
   },
   "file_extension": ".py",
   "mimetype": "text/x-python",
   "name": "python",
   "nbconvert_exporter": "python",
   "pygments_lexer": "ipython3",
   "version": "3.8.13"
  }
 },
 "nbformat": 4,
 "nbformat_minor": 4
}
